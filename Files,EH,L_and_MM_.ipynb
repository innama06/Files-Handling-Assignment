{
  "nbformat": 4,
  "nbformat_minor": 0,
  "metadata": {
    "colab": {
      "provenance": []
    },
    "kernelspec": {
      "name": "python3",
      "display_name": "Python 3"
    },
    "language_info": {
      "name": "python"
    }
  },
  "cells": [
    {
      "cell_type": "markdown",
      "source": [
        "**THEORY QUESTIONS**"
      ],
      "metadata": {
        "id": "9AvyYq73WdGG"
      }
    },
    {
      "cell_type": "markdown",
      "source": [
        "Q.1 What is the difference between interpreted and compiled languages?\n",
        "\n",
        "ANS:Interpreted languages (like Python) execute code line by line using an interpreter.\n",
        "\n",
        "Compiled languages (like C/C++) are converted into machine code before execution using a compiler.\n",
        "\n",
        "Key difference: Interpreted languages run code on the fly; compiled languages convert it first for faster execution.\n",
        "\n"
      ],
      "metadata": {
        "id": "Ev8gUk4BWk0J"
      }
    },
    {
      "cell_type": "markdown",
      "source": [
        "Q.2️ What is exception handling in Python?\n",
        "\n",
        "ANS:A way to gracefully handle runtime errors without crashing the program, using keywords like try, except, else, and finally."
      ],
      "metadata": {
        "id": "KEwDP8XxXCEH"
      }
    },
    {
      "cell_type": "markdown",
      "source": [
        "Q.3️ What is the purpose of the finally block in exception handling?\n",
        "\n",
        "ANS:The finally block always executes, whether an exception occurred or not — typically used for cleanup actions like closing files or releasing resources.\n",
        "\n"
      ],
      "metadata": {
        "id": "rgIH4_eaXIuh"
      }
    },
    {
      "cell_type": "markdown",
      "source": [
        "Q.4️ What is logging in Python?\n",
        "\n",
        "ANS:A module-based system for recording messages (like errors, warnings, info) during program execution to files or the console for debugging and monitoring."
      ],
      "metadata": {
        "id": "rZm4crSuXbKg"
      }
    },
    {
      "cell_type": "markdown",
      "source": [
        "Q.5️ What is the significance of the __del__ method in Python?\n",
        "\n",
        "ANS:The __del__ method is a destructor called when an object is about to be destroyed (when there are no more references to it)."
      ],
      "metadata": {
        "id": "QMvPSgsNXiY5"
      }
    },
    {
      "cell_type": "markdown",
      "source": [
        "Q.6️ What is the difference between import and from ... import in Python?\n",
        "\n",
        "ANS:Difference between them are as follows-\n",
        "\n",
        "import module — imports the entire module.\n",
        "\n",
        "from module import function — imports only a specific function/class from the module."
      ],
      "metadata": {
        "id": "mk32YKSbXpr3"
      }
    },
    {
      "cell_type": "markdown",
      "source": [
        "Q.7️ How can you handle multiple exceptions in Python?\n",
        "\n",
        "ANS:Use multiple except blocks or a single block with a tuple:"
      ],
      "metadata": {
        "id": "CtvOFHkFYC_i"
      }
    },
    {
      "cell_type": "markdown",
      "source": [
        "Q.8️ What is the purpose of the with statement when handling files in Python?\n",
        "\n",
        "ANS:The with statement automatically manages file closing, even if exceptions occur — it simplifies file handling and resource management."
      ],
      "metadata": {
        "id": "JhEXWkxGYfpJ"
      }
    },
    {
      "cell_type": "markdown",
      "source": [
        "Q.9️ What is the difference between multithreading and multiprocessing?\n",
        "\n",
        "ANS:Multithreading: Multiple threads within a process, sharing memory space.\n",
        "\n",
        "Multiprocessing: Multiple processes, each with its own memory — better for CPU-bound tasks in Python due to the Global Interpreter Lock (GIL)."
      ],
      "metadata": {
        "id": "Gy9IVLRPYlLx"
      }
    },
    {
      "cell_type": "markdown",
      "source": [
        "Q.10 What are the advantages of using logging in a program?\n",
        "\n",
        "ANS:The advantages of using logging in a program are as follows-\n",
        "\n",
        "1-Centralized error and event tracking\n",
        "\n",
        "2-Customizable severity levels\n",
        "\n",
        "3-Can log to files, consoles, or remote servers\n",
        "\n",
        "4-Aids debugging and maintenance without affecting the program flow\n",
        "\n"
      ],
      "metadata": {
        "id": "6d81lHMdY3VC"
      }
    },
    {
      "cell_type": "markdown",
      "source": [
        "Q.11 What is memory management in Python?\n",
        "\n",
        "ANS:Automatic allocation and deallocation of memory using reference counting and garbage collection to free up unused objects."
      ],
      "metadata": {
        "id": "b7d80PYJZOsV"
      }
    },
    {
      "cell_type": "markdown",
      "source": [
        "Q.12 What are the basic steps involved in exception handling in Python?\n",
        "\n",
        "ANS:Basic steps involved in exception handling in python-\n",
        "\n",
        "try: Code that might throw an error.\n",
        "\n",
        "except: Handles the error.\n",
        "\n",
        "else: Executes if no error occurs.\n",
        "\n",
        "finally: Always executes, for cleanup.\n",
        "\n"
      ],
      "metadata": {
        "id": "2hR4tAybZWg6"
      }
    },
    {
      "cell_type": "markdown",
      "source": [
        "Q.13 Why is memory management important in Python?\n",
        "\n",
        "ANS:Memory manangemnet is important in python to:\n",
        "\n",
        "Avoid memory leaks\n",
        "\n",
        "Ensure efficient use of resources\n",
        "\n",
        "Maintain program stability and performance\n",
        "\n"
      ],
      "metadata": {
        "id": "OAGAKoa5ZoQx"
      }
    },
    {
      "cell_type": "markdown",
      "source": [
        "Q.14 What is the role of try and except in exception handling?\n",
        "\n",
        "ANS:Role of them are as follows-\n",
        "\n",
        "try: Defines a block where exceptions might occur.\n",
        "\n",
        "except: Catches and handles specific or generic exceptions.\n",
        "\n"
      ],
      "metadata": {
        "id": "EKuUSw1OZ8b_"
      }
    },
    {
      "cell_type": "markdown",
      "source": [
        "Q.1️5 How does Python's garbage collection system work?\n",
        "\n",
        "ANS:Python uses reference counting and a cyclic garbage collector to identify and delete objects no longer in use, preventing memory leaks.\n",
        "\n"
      ],
      "metadata": {
        "id": "kEwRjof2aGZ_"
      }
    },
    {
      "cell_type": "markdown",
      "source": [
        "Q.1️6 What is the purpose of the else block in exception handling?\n",
        "\n",
        "ANS:Executes only if no exceptions occur in the try block — often used for code that should only run when everything’s fine.\n",
        "\n"
      ],
      "metadata": {
        "id": "AzonHv8JaNbV"
      }
    },
    {
      "cell_type": "markdown",
      "source": [
        "Q.1️7 What are the common logging levels in Python?\n",
        "\n",
        "ANS:COMMON LOGGING LEVELS IN PYHTON:\n",
        "\n",
        "DEBUG\n",
        "\n",
        "INFO\n",
        "\n",
        "WARNING\n",
        "\n",
        "ERROR\n",
        "\n",
        "CRITICAL\n",
        "\n"
      ],
      "metadata": {
        "id": "EPHDn7SDaah1"
      }
    },
    {
      "cell_type": "markdown",
      "source": [
        "Q.1️8 What is the difference between os.fork() and multiprocessing in Python?\n",
        "\n",
        "ANS:DIFFERENCE -\n",
        "\n",
        "os.fork(): Directly forks a child process (UNIX only).\n",
        "\n",
        "multiprocessing: Cross-platform module to spawn processes with better abstraction and process-safe queues/pipes.\n",
        "\n"
      ],
      "metadata": {
        "id": "KDuvNdhHajxQ"
      }
    },
    {
      "cell_type": "markdown",
      "source": [
        "Q.1️9 What is the importance of closing a file in Python?\n",
        "\n",
        "ANS:Importance ofclosing a file in python to:\n",
        "\n",
        "Free up system resources\n",
        "\n",
        "Ensure data is properly written and saved\n",
        "\n",
        "Avoid file corruption and resource leaks\n",
        "\n"
      ],
      "metadata": {
        "id": "YfX_NLHbas8l"
      }
    },
    {
      "cell_type": "markdown",
      "source": [
        "Q.2️0 What is the difference between file.read() and file.readline() in Python?\n",
        "\n",
        "ANS:Difference:\n",
        "\n",
        "file.read(): Reads the entire file content.\n",
        "\n",
        "file.readline(): Reads one line at a time.\n",
        "\n"
      ],
      "metadata": {
        "id": "79b-_1qnbBDr"
      }
    },
    {
      "cell_type": "markdown",
      "source": [
        "Q.21 What is the logging module in Python used for?\n",
        "\n",
        "ANS: The logging module in python used to:\n",
        "\n",
        "Track events, errors, and operational messages\n",
        "\n",
        "Log to files or streams with various severity levels\n",
        "\n",
        "Provide a systematic way to record program activity"
      ],
      "metadata": {
        "id": "xf_MU8TPbTaz"
      }
    },
    {
      "cell_type": "markdown",
      "source": [
        "Q.2️2 What is the os module in Python used for in file handling?\n",
        "\n",
        "ANS:OS module in python provides functions to:\n",
        "\n",
        "Create, delete, and manage directories and files\n",
        "\n",
        "Access system-level file paths and environment variables\n",
        "\n",
        "Work with file permissions, sizes, and processes"
      ],
      "metadata": {
        "id": "jiWye57_bk7x"
      }
    },
    {
      "cell_type": "markdown",
      "source": [
        "Q.2️3 What are the challenges associated with memory management in Python?\n",
        "\n",
        "ANS:Challenges associated with memory management in python:\n",
        "\n",
        "\n",
        "Circular references: Objects referencing each other\n",
        "\n",
        "High memory consumption: Especially in long-running programs\n",
        "\n",
        "Garbage collection overhead: Can occasionally affect performance\n",
        "\n",
        "\n"
      ],
      "metadata": {
        "id": "IiYDnAunb4fn"
      }
    },
    {
      "cell_type": "markdown",
      "source": [
        "Q.24 How do you raise an exception manually in Python?\n",
        "\n",
        "ANS:You can use the \"raise\" keyword to manually trigger an exception."
      ],
      "metadata": {
        "id": "Oh7ZeY1FcUER"
      }
    },
    {
      "cell_type": "markdown",
      "source": [
        "Q.25Why is it important to use multithreading in certain applications?\n",
        "\n",
        "ANS:Multithreading is useful when an application needs to perform multiple tasks concurrently, especially when those tasks are I/O-bound (like reading from a file, making network requests, or waiting for user input).\n",
        "\n",
        "Key reasons to use multithreading:\n",
        "\n",
        "Improves responsiveness in programs (like GUIs or servers)\n",
        "\n",
        "Efficiently handles multiple I/O operations\n",
        "\n",
        "Allows parallel execution of lightweight tasks without waiting for others to complete\n",
        "\n",
        "Makes better use of resources in applications where tasks often wait (like web scrapers, chat applications)"
      ],
      "metadata": {
        "id": "vq7IfmcgcnIJ"
      }
    },
    {
      "cell_type": "markdown",
      "source": [
        "**PRACTICAL QUESTIONS**"
      ],
      "metadata": {
        "id": "xYFr29GcdECs"
      }
    },
    {
      "cell_type": "code",
      "source": [
        "#Q.1 How can you open a file for writing in Python and write a string to it?\n",
        "#ANS:\n",
        "with open(\"example.txt\", \"w\") as file:\n",
        "    file.write(\"Hello, world!\")\n"
      ],
      "metadata": {
        "id": "bk42ymjAchI2"
      },
      "execution_count": null,
      "outputs": []
    },
    {
      "cell_type": "code",
      "source": [
        "#Q.2 Write a Python program to read the contents of a file and print each line.\n",
        "#ANS:\n",
        "\n",
        "with open(\"example.txt\", \"r\") as file:\n",
        "    for line in file:\n",
        "        print(line.strip())\n",
        "\n",
        "\n"
      ],
      "metadata": {
        "id": "l1sY5SEidez5",
        "colab": {
          "base_uri": "https://localhost:8080/"
        },
        "outputId": "f96107c1-c964-4a8c-94bc-6dc17060b39c"
      },
      "execution_count": 7,
      "outputs": [
        {
          "output_type": "stream",
          "name": "stdout",
          "text": [
            "Hello, world!\n"
          ]
        }
      ]
    },
    {
      "cell_type": "code",
      "source": [
        "#Q.3 How would you handle a case where the file doesn't exist while trying to open it for reading?\n",
        "#ANS:\n",
        "\n",
        "try:\n",
        "    with open(\"nofile.txt\", \"r\") as file:\n",
        "        content = file.read()\n",
        "except FileNotFoundError:\n",
        "    print(\"File not found.\")\n"
      ],
      "metadata": {
        "colab": {
          "base_uri": "https://localhost:8080/"
        },
        "id": "DwiktTgxebO8",
        "outputId": "1a6827d4-6816-4df3-ad43-a505755d9d1f"
      },
      "execution_count": 8,
      "outputs": [
        {
          "output_type": "stream",
          "name": "stdout",
          "text": [
            "File not found.\n"
          ]
        }
      ]
    },
    {
      "cell_type": "code",
      "source": [
        "#Q.4 Write a Python script that reads from one file and writes its content to another file.\n",
        "#ANS:\n",
        "\n",
        "# Create the source file with some content for demonstration\n",
        "with open(\"source.txt\", \"w\") as source_file:\n",
        "    source_file.write(\"This is the content of source.txt\\n\")\n",
        "    source_file.write(\"This is the second line.\")\n",
        "\n",
        "# Now read from source.txt\n",
        "with open(\"source.txt\", \"r\") as source_file:\n",
        "    content = source_file.read()\n",
        "\n",
        "# And write to destination.txt\n",
        "with open(\"destination.txt\", \"w\") as destination_file:\n",
        "    destination_file.write(content)\n",
        "\n"
      ],
      "metadata": {
        "id": "z0mzlUx9euOF"
      },
      "execution_count": 12,
      "outputs": []
    },
    {
      "cell_type": "code",
      "source": [
        "#Q.5 How would you catch and handle division by zero error in Python?\n",
        "#ANS:\n",
        "\n",
        "try:\n",
        "    result = 10 / 0\n",
        "except ZeroDivisionError:\n",
        "    print(\"Cannot divide by zero.\")\n"
      ],
      "metadata": {
        "colab": {
          "base_uri": "https://localhost:8080/"
        },
        "id": "ifZ-c0pQe_w9",
        "outputId": "b782e712-15d4-43cc-961a-3a22dfbdd66d"
      },
      "execution_count": 13,
      "outputs": [
        {
          "output_type": "stream",
          "name": "stdout",
          "text": [
            "Cannot divide by zero.\n"
          ]
        }
      ]
    },
    {
      "cell_type": "code",
      "source": [
        "#Q.6 Write a Python program that logs an error message to a log file when a division by zero exception occurs'\n",
        "#ANS:\n",
        "\n",
        "\n",
        "import logging\n",
        "\n",
        "logging.basicConfig(filename=\"app.log\", level=logging.ERROR)\n",
        "\n",
        "try:\n",
        "    result = 10 / 0\n",
        "except ZeroDivisionError as e:\n",
        "    logging.error(f\"Division by zero error: {e}\")\n",
        "\n"
      ],
      "metadata": {
        "colab": {
          "base_uri": "https://localhost:8080/"
        },
        "id": "iT99WaGagNjz",
        "outputId": "c6b39f43-327a-4f87-fd5b-2500b9bafdb6"
      },
      "execution_count": 14,
      "outputs": [
        {
          "output_type": "stream",
          "name": "stderr",
          "text": [
            "ERROR:root:Division by zero error: division by zero\n"
          ]
        }
      ]
    },
    {
      "cell_type": "code",
      "source": [
        "#Q.7 How do you log information at different levels (INFO, ERROR, WARNING) in Python using the logging module?\n",
        "#ANS:\n",
        "\n",
        "\n",
        "import logging\n",
        "\n",
        "logging.basicConfig(filename=\"logfile.log\", level=logging.DEBUG)\n",
        "\n",
        "logging.info(\"This is an info message.\")\n",
        "logging.warning(\"This is a warning.\")\n",
        "logging.error(\"This is an error.\")\n",
        "\n",
        "\n"
      ],
      "metadata": {
        "colab": {
          "base_uri": "https://localhost:8080/"
        },
        "id": "pRy5ca3egYVx",
        "outputId": "8468bb27-3853-4f33-b969-03caa628b784"
      },
      "execution_count": 15,
      "outputs": [
        {
          "output_type": "stream",
          "name": "stderr",
          "text": [
            "WARNING:root:This is a warning.\n",
            "ERROR:root:This is an error.\n"
          ]
        }
      ]
    },
    {
      "cell_type": "code",
      "source": [
        "#Q.8 Write a program to handle a file opening error using exception handling?\n",
        "#ANS:\n",
        "\n",
        "\n",
        "try:\n",
        "    with open(\"unknown.txt\", \"r\") as file:\n",
        "        data = file.read()\n",
        "except FileNotFoundError:\n",
        "    print(\"File not found.\")\n",
        "\n"
      ],
      "metadata": {
        "colab": {
          "base_uri": "https://localhost:8080/"
        },
        "id": "U4CUn-wBguCP",
        "outputId": "767eb844-c199-4537-ad45-c875f8a30d4f"
      },
      "execution_count": 16,
      "outputs": [
        {
          "output_type": "stream",
          "name": "stdout",
          "text": [
            "File not found.\n"
          ]
        }
      ]
    },
    {
      "cell_type": "code",
      "source": [
        "#Q.9 How can you read a file line by line and store its content in a list in Python?\n",
        "#ANS:\n",
        "\n",
        "with open(\"example.txt\", \"r\") as file:\n",
        "    lines = [line.strip() for line in file]\n",
        "print(lines)\n",
        "\n"
      ],
      "metadata": {
        "colab": {
          "base_uri": "https://localhost:8080/"
        },
        "id": "M-3iBrLJhBR8",
        "outputId": "0c44b464-223f-4434-9f59-dfc2a5347bbd"
      },
      "execution_count": 17,
      "outputs": [
        {
          "output_type": "stream",
          "name": "stdout",
          "text": [
            "['Hello, world!']\n"
          ]
        }
      ]
    },
    {
      "cell_type": "code",
      "source": [
        "#Q.10 How can you append data to an existing file in Python?\n",
        "#ANS:\n",
        "\n",
        "\n",
        "with open(\"example.txt\", \"a\") as file:\n",
        "    file.write(\"\\nNew line appended.\")\n",
        "\n"
      ],
      "metadata": {
        "id": "-24nAz8QhMZy"
      },
      "execution_count": 18,
      "outputs": []
    },
    {
      "cell_type": "code",
      "source": [
        "#Q.11 Write a Python program that uses a try-except block to handle an error when attempting to access a dictionary key that doesn't exist.\n",
        "#ANS:\n",
        "\n",
        "my_dict = {\"a\": 1, \"b\": 2}\n",
        "\n",
        "try:\n",
        "    value = my_dict[\"c\"]\n",
        "except KeyError:\n",
        "    print(\"Key not found in the dictionary.\")\n"
      ],
      "metadata": {
        "colab": {
          "base_uri": "https://localhost:8080/"
        },
        "id": "i8R3lTdahnpa",
        "outputId": "5ac6fbe9-408f-4730-c60e-315568ff2226"
      },
      "execution_count": 19,
      "outputs": [
        {
          "output_type": "stream",
          "name": "stdout",
          "text": [
            "Key not found in the dictionary.\n"
          ]
        }
      ]
    },
    {
      "cell_type": "code",
      "source": [
        "#Q.12 Write a program that demonstrates using multiple except blocks to handle different types of exceptions?\n",
        "#ANS:\n",
        "\n",
        "try:\n",
        "    result = 10 / 0\n",
        "except ZeroDivisionError:\n",
        "    print(\"Cannot divide by zero.\")\n",
        "except ValueError:\n",
        "    print(\"Invalid value.\")"
      ],
      "metadata": {
        "colab": {
          "base_uri": "https://localhost:8080/"
        },
        "id": "oAsKZinlh_HD",
        "outputId": "c3f7fd7e-721f-403a-8690-57737d3a7330"
      },
      "execution_count": 20,
      "outputs": [
        {
          "output_type": "stream",
          "name": "stdout",
          "text": [
            "Cannot divide by zero.\n"
          ]
        }
      ]
    },
    {
      "cell_type": "code",
      "source": [
        "#Q.13 How would you check if a file exists before attempting to read it in Python?\n",
        "#ANS:\n",
        "\n",
        "\n",
        "import os\n",
        "\n",
        "if os.path.exists(\"example.txt\"):\n",
        "    with open(\"example.txt\", \"r\") as file:\n",
        "        print(file.read())\n",
        "else:\n",
        "    print(\"File does not exist.\")\n",
        "\n"
      ],
      "metadata": {
        "colab": {
          "base_uri": "https://localhost:8080/"
        },
        "id": "UQsm6sGMieqZ",
        "outputId": "1b59a8de-b7af-4be3-9aff-687e0c58387c"
      },
      "execution_count": 25,
      "outputs": [
        {
          "output_type": "stream",
          "name": "stdout",
          "text": [
            "Hello, world!\n",
            "New line appended.\n"
          ]
        }
      ]
    },
    {
      "cell_type": "code",
      "source": [
        "#Q.14  Write a program that uses the logging module to log both informational and error messages?\n",
        "#ANS:\n",
        "\n",
        "import logging\n",
        "\n",
        "logging.basicConfig(filename=\"app.log\", level=logging.INFO)\n",
        "\n",
        "logging.info(\"This is an info message.\")\n",
        "logging.error(\"This is an error.\")"
      ],
      "metadata": {
        "colab": {
          "base_uri": "https://localhost:8080/"
        },
        "id": "n2_BggVQiyNq",
        "outputId": "b37fe451-57fe-4272-a618-d19777b664d8"
      },
      "execution_count": 23,
      "outputs": [
        {
          "output_type": "stream",
          "name": "stderr",
          "text": [
            "ERROR:root:This is an error.\n"
          ]
        }
      ]
    },
    {
      "cell_type": "code",
      "source": [
        "#Q.15 Write a Python program that prints the content of a file and handles the case when the file is empty?\n",
        "#ANS:\n",
        "\n",
        "with open(\"example.txt\", \"r\") as file:\n",
        "    content = file.read()\n",
        "    if content:\n",
        "        print(content)\n",
        "    else:\n",
        "        print(\"File is empty.\")\n"
      ],
      "metadata": {
        "colab": {
          "base_uri": "https://localhost:8080/"
        },
        "id": "yT5Ig9b8jDUQ",
        "outputId": "2d46346a-dd9b-4768-cf4c-b8be7fcdb97d"
      },
      "execution_count": 24,
      "outputs": [
        {
          "output_type": "stream",
          "name": "stdout",
          "text": [
            "Hello, world!\n",
            "New line appended.\n"
          ]
        }
      ]
    },
    {
      "cell_type": "code",
      "source": [
        "#Q.16 Demonstrate how to use memory profiling to check the memory usage of a small program.\n",
        "#ANS:\n",
        "\n",
        "# Install the memory_profiler module if not already installed\n",
        "!pip install memory-profiler\n",
        "\n",
        "from memory_profiler import profile\n",
        "\n",
        "@profile\n",
        "def my_function():\n",
        "    # Some code here\n",
        "    # Example: create a large list to observe memory usage\n",
        "    data = [i * i for i in range(1000000)]\n",
        "    pass\n",
        "\n",
        "# Call the function to see the memory profile\n",
        "my_function()\n"
      ],
      "metadata": {
        "colab": {
          "base_uri": "https://localhost:8080/"
        },
        "id": "BDGRVJjvkDfk",
        "outputId": "03d9d429-a4a9-4478-fd9c-7f57bb89324e"
      },
      "execution_count": 29,
      "outputs": [
        {
          "output_type": "stream",
          "name": "stdout",
          "text": [
            "Requirement already satisfied: memory-profiler in /usr/local/lib/python3.11/dist-packages (0.61.0)\n",
            "Requirement already satisfied: psutil in /usr/local/lib/python3.11/dist-packages (from memory-profiler) (5.9.5)\n",
            "ERROR: Could not find file <ipython-input-29-2ca45a5ebe96>\n",
            "NOTE: %mprun can only be used on functions defined in physical files, and not in the IPython environment.\n"
          ]
        }
      ]
    },
    {
      "cell_type": "code",
      "source": [
        "#Q.17 Write a Python program to create and write a list of numbers to a file, one number per line.\n",
        "#ANS:\n",
        "\n",
        "\n",
        "numbers = [1, 2, 3, 4, 5]\n",
        "with open(\"numbers.txt\", \"w\") as file:\n",
        "    for number in numbers:\n",
        "        file.write(f\"{number}\\n\")\n"
      ],
      "metadata": {
        "id": "cS0we4u8kQzf"
      },
      "execution_count": 30,
      "outputs": []
    },
    {
      "cell_type": "code",
      "source": [
        "#Q.18 How would you implement a basic logging setup that logs to a file with rotation after 1MB?\n",
        "#ANS:\n",
        "\n",
        "\n",
        "import logging\n",
        "from logging.handlers import RotatingFileHandler\n",
        "\n",
        "handler = RotatingFileHandler(\"rotating.log\", maxBytes=1048576, backupCount=3)\n",
        "logging.basicConfig(handlers=[handler], level=logging.INFO)\n",
        "\n",
        "logging.info(\"This is a log message.\")\n"
      ],
      "metadata": {
        "id": "pSSjic3ClLxI"
      },
      "execution_count": 31,
      "outputs": []
    },
    {
      "cell_type": "code",
      "source": [
        "#Q.19 Write a program that handles both IndexError and KeyError using a try-except block.\n",
        "#ANS:\n",
        "\n",
        "my_dict = {\"a\": 1, \"b\": 2}\n",
        "\n",
        "try:\n",
        "    value = my_dict[\"c\"]\n",
        "except KeyError:\n",
        "    print(\"Key not found in the dictionary.\")\n",
        "except IndexError:\n",
        "    print(\"Index out of range.\")"
      ],
      "metadata": {
        "colab": {
          "base_uri": "https://localhost:8080/"
        },
        "id": "HXBRlojbk9gK",
        "outputId": "ecb6de9e-d1b6-4930-80e5-3981f099459e"
      },
      "execution_count": 32,
      "outputs": [
        {
          "output_type": "stream",
          "name": "stdout",
          "text": [
            "Key not found in the dictionary.\n"
          ]
        }
      ]
    },
    {
      "cell_type": "code",
      "source": [
        "#Q.20 How would you open a file and read its contents using a context manager in Python?\n",
        "#ANS:\n",
        "\n",
        "with open(\"example.txt\", \"r\") as file:\n",
        "    content = file.read()\n",
        "print(content)\n",
        "\n",
        "\n"
      ],
      "metadata": {
        "colab": {
          "base_uri": "https://localhost:8080/"
        },
        "id": "oxxDlxI6lggu",
        "outputId": "0b246018-82a0-4165-c58f-c88444c06bb1"
      },
      "execution_count": 38,
      "outputs": [
        {
          "output_type": "stream",
          "name": "stdout",
          "text": [
            "Hello, world!\n",
            "New line appended.\n"
          ]
        }
      ]
    },
    {
      "cell_type": "code",
      "source": [
        "#Q.21 Write a Python program that reads a file and prints the number of occurrences of a specific word.\n",
        "#ANS:\n",
        "word_to_count = \"python\"\n",
        "count = 0\n",
        "\n",
        "with open(\"example.txt\", \"r\") as file:\n",
        "    for line in file:\n",
        "        count += line.lower().split().count(word_to_count.lower())\n",
        "\n",
        "print(f\"'{word_to_count}' occurred {count} times.\")\n"
      ],
      "metadata": {
        "colab": {
          "base_uri": "https://localhost:8080/"
        },
        "id": "-t6eLG-qmnu7",
        "outputId": "78fea04b-cffa-4a5d-a7bd-7a409ad82519"
      },
      "execution_count": 37,
      "outputs": [
        {
          "output_type": "stream",
          "name": "stdout",
          "text": [
            "'python' occurred 0 times.\n"
          ]
        }
      ]
    },
    {
      "cell_type": "code",
      "source": [
        "#Q.22 How can you check if a file is empty before attempting to read its content?\n",
        "#ANS:\n",
        "\n",
        "with open(\"example.txt\", \"r\") as file:\n",
        "    content = file.read()\n",
        "    if content:\n",
        "        print(content)\n",
        "    else:\n",
        "        print(\"File is empty.\")"
      ],
      "metadata": {
        "colab": {
          "base_uri": "https://localhost:8080/"
        },
        "id": "974FmLZomJHH",
        "outputId": "a0674ed7-e5a6-4797-947e-6891477b3384"
      },
      "execution_count": 34,
      "outputs": [
        {
          "output_type": "stream",
          "name": "stdout",
          "text": [
            "Hello, world!\n",
            "New line appended.\n"
          ]
        }
      ]
    },
    {
      "cell_type": "code",
      "source": [
        "#Q.23 Write a Python program that writes to a log file when an error occurs during file handling.\n",
        "#ANS:\n",
        "\n",
        "\n",
        "import logging\n",
        "\n",
        "logging.basicConfig(filename=\"file_errors.log\", level=logging.ERROR)\n",
        "\n",
        "try:\n",
        "    with open(\"nofile.txt\", \"r\") as file:\n",
        "        content = file.read()\n",
        "except FileNotFoundError as e:\n",
        "    logging.error(f\"File error: {e}\")\n"
      ],
      "metadata": {
        "colab": {
          "base_uri": "https://localhost:8080/"
        },
        "id": "6dua4vHhmSPf",
        "outputId": "d1e5d406-3c48-4b6e-a88b-d552f8a1416b"
      },
      "execution_count": 35,
      "outputs": [
        {
          "output_type": "stream",
          "name": "stderr",
          "text": [
            "ERROR:root:File error: [Errno 2] No such file or directory: 'nofile.txt'\n"
          ]
        }
      ]
    },
    {
      "cell_type": "markdown",
      "source": [],
      "metadata": {
        "id": "CxMZW8kLl3td"
      }
    }
  ]
}